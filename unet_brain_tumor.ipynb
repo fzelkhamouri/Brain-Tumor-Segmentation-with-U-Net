# Brain Tumor Segmentation with U-Net
# ===================================

# 1. Import Libraries
import numpy as np
import matplotlib.pyplot as plt
import tensorflow as tf
from tensorflow.keras import layers, models
from sklearn.model_selection import train_test_split

# 2. Simulate Dummy Dataset (replace with real MRI dataset)
# ---------------------------------------------------------
# For demo purposes, we'll generate synthetic "images" and "masks".
# Replace this section with actual MRI scans + masks.

def generate_data(num_samples=200, img_size=128):
    X = np.random.rand(num_samples, img_size, img_size, 1)  # grayscale images
    y = np.zeros_like(X)
    for i in range(num_samples):
        # add synthetic "tumor" as white circle
        rr, cc = np.ogrid[:img_size, :img_size]
        mask = (rr - np.random.randint(30, 90))**2 + (cc - np.random.randint(30, 90))**2 < 15**2
        y[i, mask, 0] = 1
    return X, y

X, y = generate_data()
X_train, X_val, y_train, y_val = train_test_split(X, y, test_size=0.2, random_state=42)

print("Train shape:", X_train.shape, y_train.shape)

# 3. U-Net Architecture
# ---------------------------------------------------------
def unet_model(input_size=(128,128,1)):
    inputs = layers.Input(input_size)

    # Encoder
    c1 = layers.Conv2D(16, (3,3), activation='relu', padding='same')(inputs)
    c1 = layers.Conv2D(16, (3,3), activation='relu', padding='same')(c1)
    p1 = layers.MaxPooling2D((2,2))(c1)

    c2 = layers.Conv2D(32, (3,3), activation='relu', padding='same')(p1)
    c2 = layers.Conv2D(32, (3,3), activation='relu', padding='same')(c2)
    p2 = layers.MaxPooling2D((2,2))(c2)

    c3 = layers.Conv2D(64, (3,3), activation='relu', padding='same')(p2)
    c3 = layers.Conv2D(64, (3,3), activation='relu', padding='same')(c3)
    p3 = layers.MaxPooling2D((2,2))(c3)

    # Bottleneck
    b = layers.Conv2D(128, (3,3), activation='relu', padding='same')(p3)
    b = layers.Conv2D(128, (3,3), activation='relu', padding='same')(b)

    # Decoder
    u3 = layers.Conv2DTranspose(64, (2,2), strides=(2,2), padding='same')(b)
    u3 = layers.concatenate([u3, c3])
    c4 = layers.Conv2D(64, (3,3), activation='relu', padding='same')(u3)
    c4 = layers.Conv2D(64, (3,3), activation='relu', padding='same')(c4)

    u2 = layers.Conv2DTranspose(32, (2,2), strides=(2,2), padding='same')(c4)
    u2 = layers.concatenate([u2, c2])
    c5 = layers.Conv2D(32, (3,3), activation='relu', padding='same')(u2)
    c5 = layers.Conv2D(32, (3,3), activation='relu', padding='same')(c5)

    u1 = layers.Conv2DTranspose(16, (2,2), strides=(2,2), padding='same')(c5)
    u1 = layers.concatenate([u1, c1])
    c6 = layers.Conv2D(16, (3,3), activation='relu', padding='same')(u1)
    c6 = layers.Conv2D(16, (3,3), activation='relu', padding='same')(c6)

    outputs = layers.Conv2D(1, (1,1), activation='sigmoid')(c6)

    model = models.Model(inputs=[inputs], outputs=[outputs])
    return model

model = unet_model()
model.compile(optimizer='adam', loss='binary_crossentropy', metrics=['accuracy'])
model.summary()

# 4. Training
# ---------------------------------------------------------
history = model.fit(X_train, y_train, validation_data=(X_val, y_val),
                    epochs=5, batch_size=8)

# 5. Evaluate & Visualize Predictions
# ---------------------------------------------------------
preds = model.predict(X_val[:5])

for i in range(5):
    plt.figure(figsize=(10,3))
    plt.subplot(1,3,1)
    plt.imshow(X_val[i].squeeze(), cmap='gray')
    plt.title("Input MRI")

    plt.subplot(1,3,2)
    plt.imshow(y_val[i].squeeze(), cmap='gray')
    plt.title("Ground Truth")

    plt.subplot(1,3,3)
    plt.imshow(preds[i].squeeze() > 0.5, cmap='gray')
    plt.title("Predicted Mask")
    plt.show()
